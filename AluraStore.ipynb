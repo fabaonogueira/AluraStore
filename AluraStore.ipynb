{
  "nbformat": 4,
  "nbformat_minor": 0,
  "metadata": {
    "colab": {
      "provenance": []
    },
    "kernelspec": {
      "name": "python3",
      "display_name": "Python 3"
    },
    "language_info": {
      "name": "python"
    }
  },
  "cells": [
    {
      "cell_type": "markdown",
      "source": [
        "### Importação dos dados\n",
        "\n"
      ],
      "metadata": {
        "id": "RhEdWd9YUR6H"
      }
    },
    {
      "cell_type": "code",
      "execution_count": 1,
      "metadata": {
        "colab": {
          "base_uri": "https://localhost:8080/"
        },
        "id": "T3EvaeQ_INIL",
        "outputId": "dfc0b393-3f18-428d-aac1-aa7fb57d9161"
      },
      "outputs": [
        {
          "output_type": "execute_result",
          "data": {
            "text/plain": [
              "(                 Produto Categoria do Produto    Preço      Frete  \\\n",
              " 0     Assistente virtual          eletronicos   219.08   9.249790   \n",
              " 1         Mesa de jantar               moveis   256.35  11.234305   \n",
              " 2      Jogo de tabuleiro           brinquedos   279.51  21.262681   \n",
              " 3            Micro-ondas     eletrodomesticos  1009.99  54.667344   \n",
              " 4  Cadeira de escritório               moveis   446.99  26.964689   \n",
              " \n",
              "   Data da Compra        Vendedor Local da compra  Avaliação da compra  \\\n",
              " 0     16/01/2021     Pedro Gomes              SP                    4   \n",
              " 1     18/05/2022  Beatriz Moraes              RJ                    1   \n",
              " 2     15/03/2021      João Souza              DF                    1   \n",
              " 3     03/05/2022      João Souza              RS                    4   \n",
              " 4     07/11/2020   Larissa Alves              MG                    5   \n",
              " \n",
              "   Tipo de pagamento  Quantidade de parcelas    lat    lon  \n",
              " 0    cartao_credito                       8 -22.19 -48.79  \n",
              " 1    cartao_credito                       4 -22.25 -42.66  \n",
              " 2    cartao_credito                       1 -15.83 -47.86  \n",
              " 3            boleto                       1 -30.17 -53.50  \n",
              " 4            boleto                       1 -18.10 -44.38  ,\n",
              "                  Produto   Categoria do Produto    Preço      Frete  \\\n",
              " 0  Cadeira de escritório                 moveis   378.20  20.421138   \n",
              " 1               Pandeiro  instrumentos musicais   102.37   3.035334   \n",
              " 2              Cama king                 moveis   591.13  31.759020   \n",
              " 3              Cama king                 moveis  1208.24  61.919584   \n",
              " 4  Cadeira de escritório                 moveis   530.41  25.827176   \n",
              " \n",
              "   Data da Compra        Vendedor Local da compra  Avaliação da compra  \\\n",
              " 0     04/08/2021    Thiago Silva              MG                    1   \n",
              " 1     26/11/2020   Bianca Santos              RJ                    3   \n",
              " 2     22/10/2021    Thiago Silva              SC                    5   \n",
              " 3     04/05/2022   Larissa Alves              RS                    5   \n",
              " 4     26/02/2022  Lucas Oliveira              SP                    4   \n",
              " \n",
              "   Tipo de pagamento  Quantidade de parcelas    lat    lon  \n",
              " 0            boleto                       1 -18.10 -44.38  \n",
              " 1    cartao_credito                       4 -22.25 -42.66  \n",
              " 2    cartao_credito                      10 -27.45 -50.95  \n",
              " 3    cartao_credito                      10 -30.17 -53.50  \n",
              " 4    cartao_credito                       3 -22.19 -48.79  ,\n",
              "               Produto   Categoria do Produto    Preço      Frete  \\\n",
              " 0  Secadora de roupas       eletrodomesticos  1713.50  88.823159   \n",
              " 1              Cômoda                 moveis   386.81  18.180908   \n",
              " 2              Violão  instrumentos musicais   404.62  23.197592   \n",
              " 3       Bola de vôlei        esporte e lazer    78.40   4.463341   \n",
              " 4       Guarda roupas                 moveis   694.76  34.578319   \n",
              " \n",
              "   Data da Compra        Vendedor Local da compra  Avaliação da compra  \\\n",
              " 0     17/12/2021  Camila Ribeiro              CE                    4   \n",
              " 1     10/02/2021   Larissa Alves              RS                    3   \n",
              " 2     22/01/2023  Lucas Oliveira              SP                    5   \n",
              " 3     22/03/2022     Pedro Gomes              BA                    4   \n",
              " 4     12/01/2022   Bianca Santos              SP                    1   \n",
              " \n",
              "   Tipo de pagamento  Quantidade de parcelas    lat    lon  \n",
              " 0    cartao_credito                       4  -5.20 -39.53  \n",
              " 1    cartao_credito                       1 -30.17 -53.50  \n",
              " 2    cartao_credito                       3 -22.19 -48.79  \n",
              " 3    cartao_credito                       6 -13.29 -41.71  \n",
              " 4    cartao_credito                       1 -22.19 -48.79  ,\n",
              "                Produto Categoria do Produto    Preço      Frete  \\\n",
              " 0          Lava louças     eletrodomesticos  1446.46  74.604083   \n",
              " 1             Cama box               moveis   631.70  33.919251   \n",
              " 2     Bola de basquete      esporte e lazer    31.54   0.000000   \n",
              " 3  Modelagem preditiva               livros    76.93   1.680730   \n",
              " 4       Fone de ouvido          eletronicos   185.14   7.442587   \n",
              " \n",
              "   Data da Compra        Vendedor Local da compra  Avaliação da compra  \\\n",
              " 0     11/11/2022    Rafael Costa              SP                    4   \n",
              " 1     03/01/2020    Thiago Silva              GO                    5   \n",
              " 2     25/12/2022   Larissa Alves              MG                    5   \n",
              " 3     23/11/2021  Lucas Oliveira              MG                    3   \n",
              " 4     25/04/2022   Bianca Santos              SP                    4   \n",
              " \n",
              "   Tipo de pagamento  Quantidade de parcelas    lat    lon  \n",
              " 0    cartao_credito                       3 -22.19 -48.79  \n",
              " 1    cartao_credito                       2 -15.98 -49.86  \n",
              " 2            boleto                       1 -18.10 -44.38  \n",
              " 3            boleto                       1 -18.10 -44.38  \n",
              " 4    cartao_credito                       7 -22.19 -48.79  )"
            ]
          },
          "metadata": {},
          "execution_count": 1
        }
      ],
      "source": [
        "import pandas as pd\n",
        "\n",
        "url1 = \"https://raw.githubusercontent.com/alura-es-cursos/challenge1-data-science/refs/heads/main/base-de-dados-challenge-1/loja_1.csv\"\n",
        "url2 = \"https://raw.githubusercontent.com/alura-es-cursos/challenge1-data-science/refs/heads/main/base-de-dados-challenge-1/loja_2.csv\"\n",
        "url3 = \"https://raw.githubusercontent.com/alura-es-cursos/challenge1-data-science/refs/heads/main/base-de-dados-challenge-1/loja_3.csv\"\n",
        "url4 = \"https://raw.githubusercontent.com/alura-es-cursos/challenge1-data-science/refs/heads/main/base-de-dados-challenge-1/loja_4.csv\"\n",
        "\n",
        "loja_1 = pd.read_csv(url1)\n",
        "loja_2 = pd.read_csv(url2)\n",
        "loja_3 = pd.read_csv(url3)\n",
        "loja_4 = pd.read_csv(url4)\n",
        "\n",
        "# Verificando as 5 primeiras linhas de cada loja para entender a estrutura dos dados\n",
        "loja_1.head(), loja_2.head(), loja_3.head(), loja_4.head()"
      ]
    },
    {
      "cell_type": "code",
      "source": [
        "loja.shape\n",
        "loja.info()"
      ],
      "metadata": {
        "colab": {
          "base_uri": "https://localhost:8080/"
        },
        "id": "EdVrrC2n1gk0",
        "outputId": "fc84195b-e85e-4d5c-d827-723b2ee6523d"
      },
      "execution_count": null,
      "outputs": [
        {
          "output_type": "stream",
          "name": "stdout",
          "text": [
            "<class 'pandas.core.frame.DataFrame'>\n",
            "RangeIndex: 2359 entries, 0 to 2358\n",
            "Data columns (total 12 columns):\n",
            " #   Column                  Non-Null Count  Dtype  \n",
            "---  ------                  --------------  -----  \n",
            " 0   Produto                 2359 non-null   object \n",
            " 1   Categoria do Produto    2359 non-null   object \n",
            " 2   Preço                   2359 non-null   float64\n",
            " 3   Frete                   2359 non-null   float64\n",
            " 4   Data da Compra          2359 non-null   object \n",
            " 5   Vendedor                2359 non-null   object \n",
            " 6   Local da compra         2359 non-null   object \n",
            " 7   Avaliação da compra     2359 non-null   int64  \n",
            " 8   Tipo de pagamento       2359 non-null   object \n",
            " 9   Quantidade de parcelas  2359 non-null   int64  \n",
            " 10  lat                     2359 non-null   float64\n",
            " 11  lon                     2359 non-null   float64\n",
            "dtypes: float64(4), int64(2), object(6)\n",
            "memory usage: 221.3+ KB\n"
          ]
        }
      ]
    },
    {
      "cell_type": "markdown",
      "source": [
        "#🔍 Métricas a Analisar:\n",
        "\n",
        "*   Faturamento Total de Cada Loja\n",
        "*   Categorias Mais Populares\n",
        "*   Média de Avaliação dos Clientes\n",
        "*   Produtos Mais Vendidos\n",
        "*   Produtos Menos Vendidos\n",
        "*   Custo Médio do Frete"
      ],
      "metadata": {
        "id": "FFP-Vmk-0ZHw"
      }
    },
    {
      "cell_type": "code",
      "source": [
        "import matplotlib.pyplot as plt\n",
        "\n",
        "# Agrupando os DataFrames em um dicionário para facilitar a iteração\n",
        "lojas = {\n",
        "    \"Loja 1\": loja_1,\n",
        "    \"Loja 2\": loja_2,\n",
        "    \"Loja 3\": loja_3,\n",
        "    \"Loja 4\": loja_4\n",
        "}\n",
        "\n",
        "# Inicializando os dicionários para armazenar as métricas\n",
        "faturamento_total = {}\n",
        "media_avaliacao = {}\n",
        "custo_medio_frete = {}\n",
        "categorias_mais_populares = {}\n",
        "produtos_mais_vendidos = {}\n",
        "produtos_menos_vendidos = {}"
      ],
      "metadata": {
        "id": "xykobSftV64I"
      },
      "execution_count": 3,
      "outputs": []
    },
    {
      "cell_type": "markdown",
      "source": [
        "#1. Analisando cada loja\n"
      ],
      "metadata": {
        "id": "X62IW3KFUIYm"
      }
    },
    {
      "cell_type": "code",
      "source": [
        "for nome, df in lojas.items():\n",
        "    # Faturamento total\n",
        "    faturamento_total[nome] = df['Preço'].sum()\n",
        "\n",
        "    # Média de avaliação\n",
        "    media_avaliacao[nome] = df['Avaliação da compra'].mean()\n",
        "\n",
        "    # Custo médio de frete\n",
        "    custo_medio_frete[nome] = df['Frete'].mean()\n",
        "\n",
        "    # Categoria mais popular\n",
        "    categorias_mais_populares[nome] = df['Categoria do Produto'].value_counts().idxmax()\n",
        "\n",
        "    # Produto mais vendido\n",
        "    produtos_mais_vendidos[nome] = df['Produto'].value_counts().idxmax()\n",
        "\n",
        "    # Produto menos vendido\n",
        "    produtos_menos_vendidos[nome] = df['Produto'].value_counts().idxmin()\n",
        "\n",
        "# Compilando os dados em um DataFrame resumo\n",
        "resumo_lojas = pd.DataFrame({\n",
        "    \"Faturamento Total\": faturamento_total,\n",
        "    \"Média de Avaliação\": media_avaliacao,\n",
        "    \"Custo Médio de Frete\": custo_medio_frete,\n",
        "    \"Categoria Mais Popular\": categorias_mais_populares,\n",
        "    \"Produto Mais Vendido\": produtos_mais_vendidos,\n",
        "    \"Produto Menos Vendido\": produtos_menos_vendidos\n",
        "}).T\n",
        "\n",
        "resumo_lojas"
      ],
      "metadata": {
        "id": "KDyr8E71V3m-",
        "colab": {
          "base_uri": "https://localhost:8080/",
          "height": 237
        },
        "outputId": "be109e8f-0c89-46c8-e520-bc1d11965928"
      },
      "execution_count": 4,
      "outputs": [
        {
          "output_type": "execute_result",
          "data": {
            "text/plain": [
              "                             Loja 1                    Loja 2  \\\n",
              "Faturamento Total        1534509.12                1488459.06   \n",
              "Média de Avaliação         3.976685                  4.037304   \n",
              "Custo Médio de Frete      34.691805                 33.621941   \n",
              "Categoria Mais Popular       moveis                    moveis   \n",
              "Produto Mais Vendido    Micro-ondas  Iniciando em programação   \n",
              "Produto Menos Vendido       Headset         Jogo de tabuleiro   \n",
              "\n",
              "                                  Loja 3      Loja 4  \n",
              "Faturamento Total             1464025.03  1384497.58  \n",
              "Média de Avaliação              4.048326    3.995759  \n",
              "Custo Médio de Frete           33.074464   31.278997  \n",
              "Categoria Mais Popular            moveis      moveis  \n",
              "Produto Mais Vendido       Kit banquetas    Cama box  \n",
              "Produto Menos Vendido   Blocos de montar    Guitarra  "
            ],
            "text/html": [
              "\n",
              "  <div id=\"df-382606cf-ead0-4d5a-bf66-a07fe1cc2732\" class=\"colab-df-container\">\n",
              "    <div>\n",
              "<style scoped>\n",
              "    .dataframe tbody tr th:only-of-type {\n",
              "        vertical-align: middle;\n",
              "    }\n",
              "\n",
              "    .dataframe tbody tr th {\n",
              "        vertical-align: top;\n",
              "    }\n",
              "\n",
              "    .dataframe thead th {\n",
              "        text-align: right;\n",
              "    }\n",
              "</style>\n",
              "<table border=\"1\" class=\"dataframe\">\n",
              "  <thead>\n",
              "    <tr style=\"text-align: right;\">\n",
              "      <th></th>\n",
              "      <th>Loja 1</th>\n",
              "      <th>Loja 2</th>\n",
              "      <th>Loja 3</th>\n",
              "      <th>Loja 4</th>\n",
              "    </tr>\n",
              "  </thead>\n",
              "  <tbody>\n",
              "    <tr>\n",
              "      <th>Faturamento Total</th>\n",
              "      <td>1534509.12</td>\n",
              "      <td>1488459.06</td>\n",
              "      <td>1464025.03</td>\n",
              "      <td>1384497.58</td>\n",
              "    </tr>\n",
              "    <tr>\n",
              "      <th>Média de Avaliação</th>\n",
              "      <td>3.976685</td>\n",
              "      <td>4.037304</td>\n",
              "      <td>4.048326</td>\n",
              "      <td>3.995759</td>\n",
              "    </tr>\n",
              "    <tr>\n",
              "      <th>Custo Médio de Frete</th>\n",
              "      <td>34.691805</td>\n",
              "      <td>33.621941</td>\n",
              "      <td>33.074464</td>\n",
              "      <td>31.278997</td>\n",
              "    </tr>\n",
              "    <tr>\n",
              "      <th>Categoria Mais Popular</th>\n",
              "      <td>moveis</td>\n",
              "      <td>moveis</td>\n",
              "      <td>moveis</td>\n",
              "      <td>moveis</td>\n",
              "    </tr>\n",
              "    <tr>\n",
              "      <th>Produto Mais Vendido</th>\n",
              "      <td>Micro-ondas</td>\n",
              "      <td>Iniciando em programação</td>\n",
              "      <td>Kit banquetas</td>\n",
              "      <td>Cama box</td>\n",
              "    </tr>\n",
              "    <tr>\n",
              "      <th>Produto Menos Vendido</th>\n",
              "      <td>Headset</td>\n",
              "      <td>Jogo de tabuleiro</td>\n",
              "      <td>Blocos de montar</td>\n",
              "      <td>Guitarra</td>\n",
              "    </tr>\n",
              "  </tbody>\n",
              "</table>\n",
              "</div>\n",
              "    <div class=\"colab-df-buttons\">\n",
              "\n",
              "  <div class=\"colab-df-container\">\n",
              "    <button class=\"colab-df-convert\" onclick=\"convertToInteractive('df-382606cf-ead0-4d5a-bf66-a07fe1cc2732')\"\n",
              "            title=\"Convert this dataframe to an interactive table.\"\n",
              "            style=\"display:none;\">\n",
              "\n",
              "  <svg xmlns=\"http://www.w3.org/2000/svg\" height=\"24px\" viewBox=\"0 -960 960 960\">\n",
              "    <path d=\"M120-120v-720h720v720H120Zm60-500h600v-160H180v160Zm220 220h160v-160H400v160Zm0 220h160v-160H400v160ZM180-400h160v-160H180v160Zm440 0h160v-160H620v160ZM180-180h160v-160H180v160Zm440 0h160v-160H620v160Z\"/>\n",
              "  </svg>\n",
              "    </button>\n",
              "\n",
              "  <style>\n",
              "    .colab-df-container {\n",
              "      display:flex;\n",
              "      gap: 12px;\n",
              "    }\n",
              "\n",
              "    .colab-df-convert {\n",
              "      background-color: #E8F0FE;\n",
              "      border: none;\n",
              "      border-radius: 50%;\n",
              "      cursor: pointer;\n",
              "      display: none;\n",
              "      fill: #1967D2;\n",
              "      height: 32px;\n",
              "      padding: 0 0 0 0;\n",
              "      width: 32px;\n",
              "    }\n",
              "\n",
              "    .colab-df-convert:hover {\n",
              "      background-color: #E2EBFA;\n",
              "      box-shadow: 0px 1px 2px rgba(60, 64, 67, 0.3), 0px 1px 3px 1px rgba(60, 64, 67, 0.15);\n",
              "      fill: #174EA6;\n",
              "    }\n",
              "\n",
              "    .colab-df-buttons div {\n",
              "      margin-bottom: 4px;\n",
              "    }\n",
              "\n",
              "    [theme=dark] .colab-df-convert {\n",
              "      background-color: #3B4455;\n",
              "      fill: #D2E3FC;\n",
              "    }\n",
              "\n",
              "    [theme=dark] .colab-df-convert:hover {\n",
              "      background-color: #434B5C;\n",
              "      box-shadow: 0px 1px 3px 1px rgba(0, 0, 0, 0.15);\n",
              "      filter: drop-shadow(0px 1px 2px rgba(0, 0, 0, 0.3));\n",
              "      fill: #FFFFFF;\n",
              "    }\n",
              "  </style>\n",
              "\n",
              "    <script>\n",
              "      const buttonEl =\n",
              "        document.querySelector('#df-382606cf-ead0-4d5a-bf66-a07fe1cc2732 button.colab-df-convert');\n",
              "      buttonEl.style.display =\n",
              "        google.colab.kernel.accessAllowed ? 'block' : 'none';\n",
              "\n",
              "      async function convertToInteractive(key) {\n",
              "        const element = document.querySelector('#df-382606cf-ead0-4d5a-bf66-a07fe1cc2732');\n",
              "        const dataTable =\n",
              "          await google.colab.kernel.invokeFunction('convertToInteractive',\n",
              "                                                    [key], {});\n",
              "        if (!dataTable) return;\n",
              "\n",
              "        const docLinkHtml = 'Like what you see? Visit the ' +\n",
              "          '<a target=\"_blank\" href=https://colab.research.google.com/notebooks/data_table.ipynb>data table notebook</a>'\n",
              "          + ' to learn more about interactive tables.';\n",
              "        element.innerHTML = '';\n",
              "        dataTable['output_type'] = 'display_data';\n",
              "        await google.colab.output.renderOutput(dataTable, element);\n",
              "        const docLink = document.createElement('div');\n",
              "        docLink.innerHTML = docLinkHtml;\n",
              "        element.appendChild(docLink);\n",
              "      }\n",
              "    </script>\n",
              "  </div>\n",
              "\n",
              "\n",
              "    <div id=\"df-ecff268b-be59-4f01-b2a3-2952bed16a2a\">\n",
              "      <button class=\"colab-df-quickchart\" onclick=\"quickchart('df-ecff268b-be59-4f01-b2a3-2952bed16a2a')\"\n",
              "                title=\"Suggest charts\"\n",
              "                style=\"display:none;\">\n",
              "\n",
              "<svg xmlns=\"http://www.w3.org/2000/svg\" height=\"24px\"viewBox=\"0 0 24 24\"\n",
              "     width=\"24px\">\n",
              "    <g>\n",
              "        <path d=\"M19 3H5c-1.1 0-2 .9-2 2v14c0 1.1.9 2 2 2h14c1.1 0 2-.9 2-2V5c0-1.1-.9-2-2-2zM9 17H7v-7h2v7zm4 0h-2V7h2v10zm4 0h-2v-4h2v4z\"/>\n",
              "    </g>\n",
              "</svg>\n",
              "      </button>\n",
              "\n",
              "<style>\n",
              "  .colab-df-quickchart {\n",
              "      --bg-color: #E8F0FE;\n",
              "      --fill-color: #1967D2;\n",
              "      --hover-bg-color: #E2EBFA;\n",
              "      --hover-fill-color: #174EA6;\n",
              "      --disabled-fill-color: #AAA;\n",
              "      --disabled-bg-color: #DDD;\n",
              "  }\n",
              "\n",
              "  [theme=dark] .colab-df-quickchart {\n",
              "      --bg-color: #3B4455;\n",
              "      --fill-color: #D2E3FC;\n",
              "      --hover-bg-color: #434B5C;\n",
              "      --hover-fill-color: #FFFFFF;\n",
              "      --disabled-bg-color: #3B4455;\n",
              "      --disabled-fill-color: #666;\n",
              "  }\n",
              "\n",
              "  .colab-df-quickchart {\n",
              "    background-color: var(--bg-color);\n",
              "    border: none;\n",
              "    border-radius: 50%;\n",
              "    cursor: pointer;\n",
              "    display: none;\n",
              "    fill: var(--fill-color);\n",
              "    height: 32px;\n",
              "    padding: 0;\n",
              "    width: 32px;\n",
              "  }\n",
              "\n",
              "  .colab-df-quickchart:hover {\n",
              "    background-color: var(--hover-bg-color);\n",
              "    box-shadow: 0 1px 2px rgba(60, 64, 67, 0.3), 0 1px 3px 1px rgba(60, 64, 67, 0.15);\n",
              "    fill: var(--button-hover-fill-color);\n",
              "  }\n",
              "\n",
              "  .colab-df-quickchart-complete:disabled,\n",
              "  .colab-df-quickchart-complete:disabled:hover {\n",
              "    background-color: var(--disabled-bg-color);\n",
              "    fill: var(--disabled-fill-color);\n",
              "    box-shadow: none;\n",
              "  }\n",
              "\n",
              "  .colab-df-spinner {\n",
              "    border: 2px solid var(--fill-color);\n",
              "    border-color: transparent;\n",
              "    border-bottom-color: var(--fill-color);\n",
              "    animation:\n",
              "      spin 1s steps(1) infinite;\n",
              "  }\n",
              "\n",
              "  @keyframes spin {\n",
              "    0% {\n",
              "      border-color: transparent;\n",
              "      border-bottom-color: var(--fill-color);\n",
              "      border-left-color: var(--fill-color);\n",
              "    }\n",
              "    20% {\n",
              "      border-color: transparent;\n",
              "      border-left-color: var(--fill-color);\n",
              "      border-top-color: var(--fill-color);\n",
              "    }\n",
              "    30% {\n",
              "      border-color: transparent;\n",
              "      border-left-color: var(--fill-color);\n",
              "      border-top-color: var(--fill-color);\n",
              "      border-right-color: var(--fill-color);\n",
              "    }\n",
              "    40% {\n",
              "      border-color: transparent;\n",
              "      border-right-color: var(--fill-color);\n",
              "      border-top-color: var(--fill-color);\n",
              "    }\n",
              "    60% {\n",
              "      border-color: transparent;\n",
              "      border-right-color: var(--fill-color);\n",
              "    }\n",
              "    80% {\n",
              "      border-color: transparent;\n",
              "      border-right-color: var(--fill-color);\n",
              "      border-bottom-color: var(--fill-color);\n",
              "    }\n",
              "    90% {\n",
              "      border-color: transparent;\n",
              "      border-bottom-color: var(--fill-color);\n",
              "    }\n",
              "  }\n",
              "</style>\n",
              "\n",
              "      <script>\n",
              "        async function quickchart(key) {\n",
              "          const quickchartButtonEl =\n",
              "            document.querySelector('#' + key + ' button');\n",
              "          quickchartButtonEl.disabled = true;  // To prevent multiple clicks.\n",
              "          quickchartButtonEl.classList.add('colab-df-spinner');\n",
              "          try {\n",
              "            const charts = await google.colab.kernel.invokeFunction(\n",
              "                'suggestCharts', [key], {});\n",
              "          } catch (error) {\n",
              "            console.error('Error during call to suggestCharts:', error);\n",
              "          }\n",
              "          quickchartButtonEl.classList.remove('colab-df-spinner');\n",
              "          quickchartButtonEl.classList.add('colab-df-quickchart-complete');\n",
              "        }\n",
              "        (() => {\n",
              "          let quickchartButtonEl =\n",
              "            document.querySelector('#df-ecff268b-be59-4f01-b2a3-2952bed16a2a button');\n",
              "          quickchartButtonEl.style.display =\n",
              "            google.colab.kernel.accessAllowed ? 'block' : 'none';\n",
              "        })();\n",
              "      </script>\n",
              "    </div>\n",
              "\n",
              "  <div id=\"id_fe5685eb-5fda-4683-8532-bc9348d29c04\">\n",
              "    <style>\n",
              "      .colab-df-generate {\n",
              "        background-color: #E8F0FE;\n",
              "        border: none;\n",
              "        border-radius: 50%;\n",
              "        cursor: pointer;\n",
              "        display: none;\n",
              "        fill: #1967D2;\n",
              "        height: 32px;\n",
              "        padding: 0 0 0 0;\n",
              "        width: 32px;\n",
              "      }\n",
              "\n",
              "      .colab-df-generate:hover {\n",
              "        background-color: #E2EBFA;\n",
              "        box-shadow: 0px 1px 2px rgba(60, 64, 67, 0.3), 0px 1px 3px 1px rgba(60, 64, 67, 0.15);\n",
              "        fill: #174EA6;\n",
              "      }\n",
              "\n",
              "      [theme=dark] .colab-df-generate {\n",
              "        background-color: #3B4455;\n",
              "        fill: #D2E3FC;\n",
              "      }\n",
              "\n",
              "      [theme=dark] .colab-df-generate:hover {\n",
              "        background-color: #434B5C;\n",
              "        box-shadow: 0px 1px 3px 1px rgba(0, 0, 0, 0.15);\n",
              "        filter: drop-shadow(0px 1px 2px rgba(0, 0, 0, 0.3));\n",
              "        fill: #FFFFFF;\n",
              "      }\n",
              "    </style>\n",
              "    <button class=\"colab-df-generate\" onclick=\"generateWithVariable('resumo_lojas')\"\n",
              "            title=\"Generate code using this dataframe.\"\n",
              "            style=\"display:none;\">\n",
              "\n",
              "  <svg xmlns=\"http://www.w3.org/2000/svg\" height=\"24px\"viewBox=\"0 0 24 24\"\n",
              "       width=\"24px\">\n",
              "    <path d=\"M7,19H8.4L18.45,9,17,7.55,7,17.6ZM5,21V16.75L18.45,3.32a2,2,0,0,1,2.83,0l1.4,1.43a1.91,1.91,0,0,1,.58,1.4,1.91,1.91,0,0,1-.58,1.4L9.25,21ZM18.45,9,17,7.55Zm-12,3A5.31,5.31,0,0,0,4.9,8.1,5.31,5.31,0,0,0,1,6.5,5.31,5.31,0,0,0,4.9,4.9,5.31,5.31,0,0,0,6.5,1,5.31,5.31,0,0,0,8.1,4.9,5.31,5.31,0,0,0,12,6.5,5.46,5.46,0,0,0,6.5,12Z\"/>\n",
              "  </svg>\n",
              "    </button>\n",
              "    <script>\n",
              "      (() => {\n",
              "      const buttonEl =\n",
              "        document.querySelector('#id_fe5685eb-5fda-4683-8532-bc9348d29c04 button.colab-df-generate');\n",
              "      buttonEl.style.display =\n",
              "        google.colab.kernel.accessAllowed ? 'block' : 'none';\n",
              "\n",
              "      buttonEl.onclick = () => {\n",
              "        google.colab.notebook.generateWithVariable('resumo_lojas');\n",
              "      }\n",
              "      })();\n",
              "    </script>\n",
              "  </div>\n",
              "\n",
              "    </div>\n",
              "  </div>\n"
            ],
            "application/vnd.google.colaboratory.intrinsic+json": {
              "type": "dataframe",
              "variable_name": "resumo_lojas",
              "summary": "{\n  \"name\": \"resumo_lojas\",\n  \"rows\": 6,\n  \"fields\": [\n    {\n      \"column\": \"Loja 1\",\n      \"properties\": {\n        \"dtype\": \"string\",\n        \"num_unique_values\": 6,\n        \"samples\": [\n          1534509.12,\n          3.976685036032217,\n          \"Headset\"\n        ],\n        \"semantic_type\": \"\",\n        \"description\": \"\"\n      }\n    },\n    {\n      \"column\": \"Loja 2\",\n      \"properties\": {\n        \"dtype\": \"string\",\n        \"num_unique_values\": 6,\n        \"samples\": [\n          1488459.06,\n          4.037303942348453,\n          \"Jogo de tabuleiro\"\n        ],\n        \"semantic_type\": \"\",\n        \"description\": \"\"\n      }\n    },\n    {\n      \"column\": \"Loja 3\",\n      \"properties\": {\n        \"dtype\": \"string\",\n        \"num_unique_values\": 6,\n        \"samples\": [\n          1464025.03,\n          4.048325561678677,\n          \"Blocos de montar\"\n        ],\n        \"semantic_type\": \"\",\n        \"description\": \"\"\n      }\n    },\n    {\n      \"column\": \"Loja 4\",\n      \"properties\": {\n        \"dtype\": \"string\",\n        \"num_unique_values\": 6,\n        \"samples\": [\n          1384497.58,\n          3.9957591178965224,\n          \"Guitarra\"\n        ],\n        \"semantic_type\": \"\",\n        \"description\": \"\"\n      }\n    }\n  ]\n}"
            }
          },
          "metadata": {},
          "execution_count": 4
        }
      ]
    },
    {
      "cell_type": "markdown",
      "source": [
        "#📊 Resumo Geral das Lojas\n",
        "\n",
        "| Métrica                    | Loja 1           | Loja 2                   | Loja 3           | Loja 4           |\n",
        "| -------------------------- | ---------------- | ------------------------ | ---------------- | ---------------- |\n",
        "| **Faturamento Total**      | R\\$ 1.534.509,12 | R\\$ 1.488.459,06         | R\\$ 1.464.025,03 | R\\$ 1.384.497,58 |\n",
        "| **Média de Avaliação**     | 3.98             | 4.04                     | **4.05**         | 4.00             |\n",
        "| **Custo Médio de Frete**   | R\\$ 34,69        | R\\$ 33,62                | R\\$ 33,07        | **R\\$ 31,28**    |\n",
        "| **Categoria Mais Popular** | móveis           | móveis                   | móveis           | móveis           |\n",
        "| **Produto + Vendido**      | TV Led UHD 4K    | Iniciando em programação | Kit banquetas    | Cama box         |\n",
        "| **Produto - Vendido**      | Headset          | Jogo de tabuleiro        | Blocos de montar | Guitarra         |\n"
      ],
      "metadata": {
        "id": "rHWvQfTH1V56"
      }
    },
    {
      "cell_type": "markdown",
      "source": [
        "#💡 Insights Iniciais\n",
        "\n",
        "\n",
        "*   Loja com menor faturamento: Loja 4\n",
        "*   Loja com pior avaliação média: Loja 1\n",
        "*   Loja com frete mais barato: Loja 4\n",
        "*   Produto menos vendido de pior desempenho: Guitarra (Loja 4)\n",
        "*   Todas as lojas têm como categoria mais popular móveis."
      ],
      "metadata": {
        "id": "9skA3T0z13gn"
      }
    },
    {
      "cell_type": "markdown",
      "source": [
        "# Gráfico 1: Faturamento Total por Loja (barra)"
      ],
      "metadata": {
        "id": "YBGhzDqg2WsP"
      }
    },
    {
      "cell_type": "code",
      "source": [
        "plt.figure(figsize=(10, 6))\n",
        "plt.bar(faturamento_total.keys(), faturamento_total.values(), color='skyblue')\n",
        "plt.title('Faturamento Total por Loja')\n",
        "plt.ylabel('Faturamento (R$)')\n",
        "plt.xlabel('Lojas')\n",
        "plt.grid(axis='y', linestyle='--', alpha=0.6)\n",
        "plt.tight_layout()\n",
        "plt.show()"
      ],
      "metadata": {
        "id": "0tSdCie9ZQlt",
        "colab": {
          "base_uri": "https://localhost:8080/",
          "height": 607
        },
        "outputId": "9f7c0b3d-388a-475a-9df8-223eb7dd8c8d"
      },
      "execution_count": 5,
      "outputs": [
        {
          "output_type": "display_data",
          "data": {
            "text/plain": [
              "<Figure size 1000x600 with 1 Axes>"
            ],
            "image/png": "[encoded data removed]"
          },
          "metadata": {}
        }
      ]
    },
    {
      "cell_type": "markdown",
      "source": [
        "### Faturamento Total por Loja\n",
        "→ Loja 1 lidera com folga, enquanto a Loja 4 está um último lugar."
      ],
      "metadata": {
        "id": "sOnxmndV2snq"
      }
    },
    {
      "cell_type": "markdown",
      "source": [
        "# Gráfico 2: Média de Avaliação por Loja (barra horizontal)"
      ],
      "metadata": {
        "id": "Y1-p4zKl2dWh"
      }
    },
    {
      "cell_type": "code",
      "source": [
        "plt.figure(figsize=(10, 6))\n",
        "plt.barh(list(media_avaliacao.keys()), list(media_avaliacao.values()), color='lightgreen')\n",
        "plt.title('Média de Avaliação por Loja')\n",
        "plt.xlabel('Nota média')\n",
        "plt.grid(axis='x', linestyle='--', alpha=0.6)\n",
        "plt.tight_layout()\n",
        "plt.show()"
      ],
      "metadata": {
        "colab": {
          "base_uri": "https://localhost:8080/",
          "height": 607
        },
        "id": "KSJPQUdc2fO5",
        "outputId": "f408f3e8-ca5c-4d68-9d23-3b15ed4d0ec4"
      },
      "execution_count": 6,
      "outputs": [
        {
          "output_type": "display_data",
          "data": {
            "text/plain": [
              "<Figure size 1000x600 with 1 Axes>"
            ],
            "image/png": "[encoded data removed]"
          },
          "metadata": {}
        }
      ]
    },
    {
      "cell_type": "markdown",
      "source": [
        "### Média de Avaliação por Loja\n",
        "→ Loja 3 tem o NPS mais elevado entre os clientes, com média 4.05."
      ],
      "metadata": {
        "id": "qWKMFVDz28lG"
      }
    },
    {
      "cell_type": "markdown",
      "source": [
        "# Gráfico 3: Custo Médio do Frete por Loja (pizza)"
      ],
      "metadata": {
        "id": "eFiF71xh2i4r"
      }
    },
    {
      "cell_type": "code",
      "source": [
        "plt.figure(figsize=(8, 8))\n",
        "plt.pie(custo_medio_frete.values(), labels=custo_medio_frete.keys(), autopct='%1.1f%%', startangle=140, colors=['#f4a582', '#92c5de', '#d5d5d5', '#ca0020'])\n",
        "plt.title('Distribuição do Custo Médio de Frete')\n",
        "plt.tight_layout()\n",
        "plt.show()"
      ],
      "metadata": {
        "colab": {
          "base_uri": "https://localhost:8080/",
          "height": 807
        },
        "id": "z1tGE8zb2kiR",
        "outputId": "865a5a68-2070-482f-fac2-032e6133c3ba"
      },
      "execution_count": 7,
      "outputs": [
        {
          "output_type": "display_data",
          "data": {
            "text/plain": [
              "<Figure size 800x800 with 1 Axes>"
            ],
            "image/png": "[encoded data removed]"
          },
          "metadata": {}
        }
      ]
    },
    {
      "cell_type": "markdown",
      "source": [
        "### Distribuição do Custo Médio de Frete\n",
        "→ Loja 4 tem o frete mais barato dentre as outras lojas.\n",
        "\n"
      ],
      "metadata": {
        "id": "NtCgBlqn3P1a"
      }
    },
    {
      "cell_type": "markdown",
      "source": [
        "# 📌 Conclusão:\n",
        "\n",
        "A Loja 4 aparece consistentemente com:\n",
        "\n",
        "\n",
        "*   O menor faturamento\n",
        "*   O produto menos vendido (Guitarra)\n",
        "*   Avaliação ok, mas não brilha\n",
        "*   O frete, mais barato entre as lojas, não garante desempenho financeiro\n"
      ],
      "metadata": {
        "id": "maQksEXt3ZNA"
      }
    },
    {
      "cell_type": "markdown",
      "source": [
        "# 🛑 Recomendação Final:\n",
        "O Sr. João deve considerar vender a Loja 4, pois ela demonstra o desempenho mais fraco em múltiplos indicadores analisados. Com isso, poderá levantar capital mantendo suas lojas mais rentáveis e bem avaliadas."
      ],
      "metadata": {
        "id": "qIpQolIj4Om2"
      }
    }
  ]
}